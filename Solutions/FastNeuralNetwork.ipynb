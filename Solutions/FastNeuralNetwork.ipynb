{
  "nbformat": 4,
  "nbformat_minor": 0,
  "metadata": {
    "colab": {
      "provenance": [],
      "gpuType": "T4",
      "include_colab_link": true
    },
    "kernelspec": {
      "name": "python3",
      "display_name": "Python 3"
    },
    "language_info": {
      "name": "python"
    }
  },
  "cells": [
    {
      "cell_type": "markdown",
      "metadata": {
        "id": "view-in-github",
        "colab_type": "text"
      },
      "source": [
        "<a href=\"https://colab.research.google.com/github/lmay1231/cosc470s24/blob/main/Solutions/FastNeuralNetwork.ipynb\" target=\"_parent\"><img src=\"https://colab.research.google.com/assets/colab-badge.svg\" alt=\"Open In Colab\"/></a>"
      ]
    },
    {
      "cell_type": "markdown",
      "source": [
        "The **Hello, world** of neural networks\n",
        "This code builds a simple neural network that can recognize handwritten 28x28 pixel digits.\n",
        "\n",
        "Our first version will have 15 neurons in the hidden layer and 10 output neurons.\n",
        "\n",
        "See image below:\n",
        "http://neuralnetworksanddeeplearning.com/images/tikz12.png\n",
        "\n",
        "How many weights in this network?\n",
        "11760 weights in the first layer (784 * 15) and 150 weights in the second layer (15 * 10) = 11910 weights total\n",
        "15 biases in the hidden layer and 10 biases in the output layer = 25 biases total.\n",
        "11910 + 25 = 11935 parameters!"
      ],
      "metadata": {
        "id": "X6OTVSJZLxzO"
      }
    },
    {
      "cell_type": "code",
      "execution_count": 1,
      "metadata": {
        "id": "NQQ0yjJ6LUBN",
        "colab": {
          "base_uri": "https://localhost:8080/"
        },
        "outputId": "3774a260-c904-4c7c-854f-53c83090bda4"
      },
      "outputs": [
        {
          "output_type": "stream",
          "name": "stdout",
          "text": [
            "Cloning into 'nn'...\n",
            "remote: Enumerating objects: 63, done.\u001b[K\n",
            "remote: Counting objects: 100% (8/8), done.\u001b[K\n",
            "remote: Compressing objects: 100% (8/8), done.\u001b[K\n",
            "remote: Total 63 (delta 1), reused 3 (delta 0), pack-reused 55\u001b[K\n",
            "Receiving objects: 100% (63/63), 16.43 MiB | 14.56 MiB/s, done.\n",
            "Resolving deltas: 100% (28/28), done.\n",
            "/content/nn\n"
          ]
        }
      ],
      "source": [
        "!git clone https://github.com/MichalDanielDobrzanski/DeepLearningPython nn\n",
        "%cd nn"
      ]
    },
    {
      "cell_type": "code",
      "source": [
        "# this code depends on having executed the previous cell\n",
        "# (i.e., you need to have cloned the nn code and cd'ed into it)\n",
        "import network\n",
        "import mnist_loader\n",
        "training_data, validation_data, test_data = mnist_loader.load_data_wrapper()\n",
        "training_data = list(training_data)\n",
        "test_data = list(test_data)\n"
      ],
      "metadata": {
        "id": "TY_GaewAIO1z"
      },
      "execution_count": 2,
      "outputs": []
    },
    {
      "cell_type": "code",
      "source": [
        "# average digit darkness\n",
        "# step 1 - write a function that can calculate the darkness of a single image\n",
        "def image_darkness(imgpixeldata):\n",
        "  darkness_total = 0\n",
        "  for x in imgpixeldata:\n",
        "    darkness_total = darkness_total + x\n",
        "  return darkness_total[0]\n",
        "\n",
        "# step 2 - call that function on all the training images and calculate the average darkness of each digit\n",
        "darkness = image_darkness(training_data[0][0])\n",
        "whichimage = np.argmax(training_data[0][1])\n",
        "print(f\"The first image was a {whichimage} and its darkness was {darkness}\")\n",
        "darkness = image_darkness(training_data[1][0])\n",
        "whichimage = np.argmax(training_data[1][1])\n",
        "print(f\"The second image was a {whichimage} and its darkness was {darkness}\")\n",
        "\n",
        "# define a 10-element list of darkness totals\n",
        "darkness_totals = [0 for _ in range(10)]\n",
        "# define a 10-elment list of digit counts\n",
        "darkness_counts = [0 for _ in range(10)]\n",
        "\n",
        "# iterate through each image and update the two data structures\n",
        "for training_img in training_data:\n",
        "  darkness = image_darkness(training_img[0]) # replace this with the correct function call!\n",
        "  whichimage = np.argmax(training_img[1])\n",
        "  darkness_totals[whichimage] += darkness\n",
        "  darkness_counts[whichimage] += 1\n",
        "\n",
        "# now calculate the averages\n",
        "darkness_averages = [darkness_totals[i]/darkness_counts[i] for i in range(10)]\n",
        "\n",
        "print(darkness_counts)\n",
        "print(darkness_averages)\n",
        "\n",
        "# step 3 - use those averages to classify all the test data images and count how many of each digit you get right\n",
        "def find_closest(darkness, darkness_averages):\n",
        "  # add code here that determines which average was closest to darkness\n",
        "  return 0\n",
        "\n",
        "correct_counts = [0 for _ in range(10)]\n",
        "wrong_counts = [0 for _ in range(10)]\n",
        "\n",
        "for imgdata, whichimage in test_data:\n",
        "  darkness = image_darkness(imgdata)\n",
        "  # see which darkness_average is closest to \"darkness\" and make that our classification for this image\n",
        "  closest_digit = find_closest(darkness, darkness_averages)\n",
        "  if closest_digit == whichimage:\n",
        "    correct_counts[whichimage] += 1\n",
        "  else:\n",
        "    wrong_counts[whichimage] += 1\n",
        "\n",
        "# now that we have our correct/wrong counts, turn that into accuracies\n",
        "digit_accuracies = [correct_counts[i]/(correct_counts[i]+wrong_counts[i]) for i in range(10)]\n",
        "print(digit_accuracies)"
      ],
      "metadata": {
        "id": "xiMrbkucJPL9",
        "colab": {
          "base_uri": "https://localhost:8080/"
        },
        "outputId": "abba2140-c17f-4d08-e39d-2405f4051878"
      },
      "execution_count": 4,
      "outputs": [
        {
          "output_type": "stream",
          "name": "stdout",
          "text": [
            "The first image was a 5 and its darkness was 107.51953125\n",
            "The second image was a 0 and its darkness was 121.46484375\n",
            "[4932, 5678, 4968, 5101, 4859, 4506, 4951, 5175, 4842, 4988]\n",
            "[135.8691200324412, 59.66034750352237, 116.294303857186, 110.87092451235051, 95.22073970338548, 100.34646166222814, 107.38312020298929, 89.8788345410628, 117.88056410703221, 96.0455585592923]\n",
            "[1.0, 0.0, 0.0, 0.0, 0.0, 0.0, 0.0, 0.0, 0.0, 0.0]\n"
          ]
        }
      ]
    },
    {
      "cell_type": "code",
      "source": [
        "# part 2 - use this default configuration and the following hyper-parameters\n",
        "#    epochs - 30\n",
        "#    batch size - 10\n",
        "#    learning rate - 3.0\n",
        "net = network.Network([784, 30, 10])\n",
        "net.SGD(training_data, 30, 10, 3.0, test_data=test_data)\n"
      ],
      "metadata": {
        "id": "V3qm9cgIQ2rh",
        "colab": {
          "base_uri": "https://localhost:8080/"
        },
        "outputId": "ab422a16-5594-4dc8-e46e-76bc5a6c1567"
      },
      "execution_count": 6,
      "outputs": [
        {
          "output_type": "stream",
          "name": "stdout",
          "text": [
            "Epoch 0 : 8993 / 10000\n",
            "Epoch 1 : 9191 / 10000\n",
            "Epoch 2 : 9291 / 10000\n",
            "Epoch 3 : 9282 / 10000\n",
            "Epoch 4 : 9363 / 10000\n",
            "Epoch 5 : 9353 / 10000\n",
            "Epoch 6 : 9421 / 10000\n",
            "Epoch 7 : 9378 / 10000\n",
            "Epoch 8 : 9440 / 10000\n",
            "Epoch 9 : 9446 / 10000\n",
            "Epoch 10 : 9412 / 10000\n",
            "Epoch 11 : 9427 / 10000\n",
            "Epoch 12 : 9471 / 10000\n",
            "Epoch 13 : 9437 / 10000\n",
            "Epoch 14 : 9474 / 10000\n",
            "Epoch 15 : 9471 / 10000\n",
            "Epoch 16 : 9490 / 10000\n",
            "Epoch 17 : 9450 / 10000\n",
            "Epoch 18 : 9486 / 10000\n",
            "Epoch 19 : 9490 / 10000\n",
            "Epoch 20 : 9487 / 10000\n",
            "Epoch 21 : 9511 / 10000\n",
            "Epoch 22 : 9486 / 10000\n",
            "Epoch 23 : 9479 / 10000\n",
            "Epoch 24 : 9509 / 10000\n",
            "Epoch 25 : 9503 / 10000\n",
            "Epoch 26 : 9508 / 10000\n",
            "Epoch 27 : 9499 / 10000\n",
            "Epoch 28 : 9503 / 10000\n",
            "Epoch 29 : 9528 / 10000\n"
          ]
        }
      ]
    },
    {
      "cell_type": "code",
      "source": [
        "import numpy as np\n",
        "a = net.feedforward(test_data[2][0])\n",
        "print(a)\n",
        "print(np.argmax(a))\n",
        "print(test_data[2][1])\n",
        "\n",
        "# per digit accuracies\n",
        "# loop through the test data again\n",
        "# calculate how many of each digit was classified correctly\n",
        "\n",
        "correct_counts = [0 for _ in range(10)]\n",
        "digit_counts = [0 for _ in range(10)]\n",
        "\n",
        "for (x, y) in test_data:\n",
        "  a = np.argmax(net.feedforward(x))\n",
        "  if a == y:\n",
        "    correct_counts[y] += 1\n",
        "  digit_counts[y] += 1\n",
        "\n",
        "print(correct_counts)\n",
        "print(digit_counts)\n",
        "accuracies = [correct_counts[i]/digit_counts[i] for i in range(10)]\n",
        "print(accuracies)"
      ],
      "metadata": {
        "id": "LPbCl_Rio5bK",
        "colab": {
          "base_uri": "https://localhost:8080/"
        },
        "outputId": "61c0f2c1-e520-49b5-b7fc-bb0906ca7733"
      },
      "execution_count": 7,
      "outputs": [
        {
          "output_type": "stream",
          "name": "stdout",
          "text": [
            "[[1.53392953e-12]\n",
            " [9.98203400e-01]\n",
            " [5.30604421e-05]\n",
            " [2.54891038e-06]\n",
            " [9.99182121e-11]\n",
            " [2.06954061e-06]\n",
            " [8.37700454e-06]\n",
            " [1.00406019e-05]\n",
            " [4.28528234e-05]\n",
            " [2.00292968e-10]]\n",
            "1\n",
            "1\n",
            "[954, 1121, 973, 942, 937, 846, 932, 965, 918, 940]\n",
            "[980, 1135, 1032, 1010, 982, 892, 958, 1028, 974, 1009]\n",
            "[0.9734693877551021, 0.9876651982378855, 0.9428294573643411, 0.9326732673267327, 0.9541751527494908, 0.9484304932735426, 0.9728601252609603, 0.938715953307393, 0.9425051334702259, 0.931615460852329]\n"
          ]
        }
      ]
    },
    {
      "cell_type": "code",
      "source": [
        "import matplotlib.pyplot as plt\n",
        "fig = plt.figure(figsize = (10, 5))\n",
        " # creating the bar plot\n",
        "plt.bar(range(0,10), accuracies, color ='maroon',\n",
        "        width = 0.4)\n",
        "plt.xlabel(\"Digit\")\n",
        "plt.ylabel(\"Accuracy\")\n",
        "plt.title(\"Per digit accuracy for standard hyperparams\")\n",
        "plt.show()"
      ],
      "metadata": {
        "id": "T9P4DXeSBlAK",
        "colab": {
          "base_uri": "https://localhost:8080/",
          "height": 487
        },
        "outputId": "6e236f70-f1f3-44ed-aa41-3ed936d09be3"
      },
      "execution_count": 8,
      "outputs": [
        {
          "output_type": "display_data",
          "data": {
            "text/plain": [
              "<Figure size 1000x500 with 1 Axes>"
            ],
            "image/png": "[encoded data removed]"
          },
          "metadata": {}
        }
      ]
    },
    {
      "cell_type": "code",
      "source": [
        "print(np.shape(net.weights[0]))\n",
        "print(net.weights[0])"
      ],
      "metadata": {
        "id": "-adILgnNKqe9",
        "colab": {
          "base_uri": "https://localhost:8080/"
        },
        "outputId": "934509c2-0c69-494e-81d7-d855c6494462"
      },
      "execution_count": 9,
      "outputs": [
        {
          "output_type": "stream",
          "name": "stdout",
          "text": [
            "(30, 784)\n",
            "[[ 2.04720332 -0.74733433  1.44020346 ...  0.23411007 -1.65983614\n",
            "  -0.88857086]\n",
            " [-1.12654914  0.88206051 -0.52798654 ... -0.4849727  -1.9882342\n",
            "   0.34815471]\n",
            " [ 0.12819558  0.3661199  -1.48137276 ...  0.35968295  2.12155668\n",
            "   0.15842026]\n",
            " ...\n",
            " [ 0.60930156  0.74600244  1.02623255 ... -0.39449228 -0.80848321\n",
            "   0.00446635]\n",
            " [-0.41649521 -0.99638836 -1.03491189 ...  0.79670045  1.53718408\n",
            "   1.49111678]\n",
            " [ 0.73998025  0.59041888  0.40958488 ...  1.76074484 -0.09823831\n",
            "   1.66052181]]\n"
          ]
        }
      ]
    },
    {
      "cell_type": "code",
      "source": [
        "print(np.shape(net.weights[1]))\n",
        "print(net.weights[1])"
      ],
      "metadata": {
        "id": "3HFpBqj4MJWh",
        "colab": {
          "base_uri": "https://localhost:8080/"
        },
        "outputId": "fe6536ef-e130-4a82-b845-8f18528cccb3"
      },
      "execution_count": 10,
      "outputs": [
        {
          "output_type": "stream",
          "name": "stdout",
          "text": [
            "(10, 30)\n",
            "[[-3.39317753e+00  2.11272575e+00  3.54018456e-01  5.53389122e+00\n",
            "  -2.83147417e+00 -4.32139503e+00 -8.31560768e-01 -4.85719941e-01\n",
            "  -4.58822730e+00  2.68127483e+00 -3.11941752e+00 -6.60591682e+00\n",
            "  -4.07104974e+00  3.04646621e+00  2.25779218e+00 -1.63452005e-01\n",
            "  -4.56119273e+00 -5.34037634e+00 -1.14770773e-01 -3.35336274e+00\n",
            "  -4.41619057e+00  1.48813799e+00 -3.86269054e+00  3.28300716e+00\n",
            "  -2.00275069e+00 -8.03415502e-01 -4.38390886e+00 -2.75706320e+00\n",
            "   4.61885541e-01  3.70271011e+00]\n",
            " [ 4.04728779e+00  2.80925104e+00 -2.82928437e+00 -3.35777342e+00\n",
            "  -1.09047175e+00 -4.61131209e+00  1.33498663e+00 -1.25264645e+00\n",
            "  -7.87336418e-01  6.38399368e-01 -1.78995593e+00  3.29146997e-01\n",
            "   1.21030235e+00 -3.46959170e+00 -3.38030944e+00 -1.77369324e+00\n",
            "   3.72185370e+00 -4.61896605e+00 -2.74513495e+00  5.94785810e+00\n",
            "  -1.19829693e+00  9.03550364e-01  2.58762581e+00 -1.45666234e+00\n",
            "   6.86644768e-01 -4.09508732e+00  2.07883660e+00  3.11922390e+00\n",
            "  -5.83774941e-02 -2.87850751e+00]\n",
            " [ 7.91004742e-01  9.53687841e-01 -8.54470970e-01 -5.09415765e+00\n",
            "  -3.74767029e+00  3.87973645e+00  2.72419367e+00 -6.93574126e+00\n",
            "   2.95001139e+00  1.47103843e-01 -1.95292510e+00 -5.50582197e+00\n",
            "  -6.19345597e+00  1.01137756e+00 -3.01732289e+00 -1.75419280e+00\n",
            "  -3.99911454e+00 -3.71713933e+00  1.88403103e+00 -2.35403210e+00\n",
            "  -3.40347327e+00  9.17018337e-01  5.23177029e+00 -1.29840872e+00\n",
            "  -6.62973399e+00  5.16675607e+00  4.06102732e+00 -8.21332462e-01\n",
            "   3.06434820e+00 -3.76123305e+00]\n",
            " [-3.03054342e-03  6.22037344e-01  2.71607962e+00  3.48039029e-02\n",
            "  -3.12162618e+00 -9.56530639e-01 -5.48828332e-01 -5.52325196e+00\n",
            "  -6.39149164e+00 -3.35212054e+00  1.14508046e+00 -6.78302989e+00\n",
            "   1.87085505e+00 -2.93494193e+00  4.51327422e+00 -3.30108452e+00\n",
            "  -1.18571686e+00  4.80461718e+00 -2.55143588e+00  5.56747748e+00\n",
            "  -1.81182300e+00 -2.54925944e-01 -1.37341524e+00 -6.90724748e-02\n",
            "   1.18860081e+00  5.43264014e+00 -2.03054838e+00  2.81769878e+00\n",
            "  -3.24660206e+00 -4.52881511e+00]\n",
            " [-9.39611250e+00 -4.47176174e+00 -2.18568752e+00  3.82835610e+00\n",
            "  -4.07628588e+00  6.05826680e+00  5.10812882e+00 -1.45710624e-01\n",
            "   1.43125071e+00  2.48836716e-02 -2.58474684e+00 -3.19834492e+00\n",
            "   1.38033761e+00  8.24306222e-01 -5.01177428e-01  9.93069787e-01\n",
            "   2.92870504e+00 -6.26830893e-02 -6.36067826e+00  3.72411239e+00\n",
            "  -6.61746175e+00  2.46999983e+00  7.74626108e-01  3.35120154e+00\n",
            "   4.09810054e+00 -4.32207055e-01  8.46153571e-01 -1.53636682e-01\n",
            "   6.36970081e-01  1.80950334e+00]\n",
            " [-6.66702752e-01 -3.32141644e+00 -2.16994884e-01  2.68336912e-01\n",
            "  -2.11784289e+00 -3.30487520e+00  1.21934115e+00  1.18196662e+00\n",
            "  -5.03686049e+00  6.04819074e+00 -1.94005459e-01  6.41595479e+00\n",
            "  -4.16794380e+00 -3.44746051e+00  1.61966652e-01  2.20193442e+00\n",
            "   1.45184874e+00  4.53227126e+00  5.69183975e+00 -7.93869314e+00\n",
            "  -3.69462877e+00 -3.89503048e+00  2.90983128e+00  3.94832168e+00\n",
            "  -2.44060819e+00 -4.33761747e+00 -4.97856944e-02  1.88858081e+00\n",
            "  -2.52133711e+00 -1.62453444e-01]\n",
            " [ 4.24791374e+00 -1.18852758e+00  3.35473239e+00  5.84161513e+00\n",
            "  -3.94003284e+00  1.43025028e+00 -1.21197241e+00  2.41875547e+00\n",
            "   2.50205467e-01 -9.10129304e-01  4.40994616e+00  5.43691691e+00\n",
            "  -8.83466745e-01  3.65665643e+00 -7.84450206e-01 -1.96438553e+00\n",
            "  -3.04806584e+00 -9.02612520e+00 -2.17029888e+00 -5.69560136e-01\n",
            "  -3.99664281e+00 -1.28318192e+00 -2.54513143e+00 -1.08639833e+00\n",
            "   3.25068873e+00 -4.11794737e+00 -3.78222026e-02 -5.47927011e+00\n",
            "   8.90941438e-01  1.20196599e+00]\n",
            " [-4.40622490e+00 -2.17257323e+00  3.41529531e+00 -2.88582274e+00\n",
            "  -1.69329319e+00 -4.18759984e+00 -1.32647417e+00 -6.04876015e-01\n",
            "   2.68361395e+00  3.46131249e+00 -2.83738001e+00 -4.43030387e-01\n",
            "   6.94432321e+00  7.44669467e-01 -9.17264581e-01 -1.73782897e+00\n",
            "  -2.02923149e-02 -5.74918150e+00  1.26979437e+00  4.62524164e+00\n",
            "  -7.96974542e-01 -3.71444940e+00 -2.94697611e+00 -3.47322280e+00\n",
            "  -3.16280657e+00  1.79855590e+00  1.05924723e+00  1.60115524e+00\n",
            "  -5.62667531e+00  5.03549764e+00]\n",
            " [-1.66439418e+00  4.29709312e-01 -1.21505354e+00  5.10221123e+00\n",
            "  -4.96082834e+00 -4.80886052e+00 -1.75745826e+00  2.97341324e+00\n",
            "   5.88074045e-01 -7.27889844e+00  2.85989693e+00 -4.36081038e+00\n",
            "  -3.40343297e+00  4.67620477e+00 -3.37160139e+00  1.90881534e+00\n",
            "   2.63738844e+00 -6.59211836e+00  1.79090139e+00 -1.01632396e+00\n",
            "  -6.29209859e+00  3.36732388e+00  1.68762122e+00  1.63300334e+00\n",
            "  -3.05452398e+00  4.68766259e+00 -7.44280020e-01 -5.92495755e-01\n",
            "  -5.20683089e+00 -4.73523354e+00]\n",
            " [-3.88785856e+00  3.12778490e+00 -6.60779680e+00  3.58014080e+00\n",
            "  -4.90877993e+00  3.92090004e+00 -6.93954441e+00  1.24809880e+00\n",
            "  -2.90508060e-01 -5.01597482e+00  1.58286700e+00  6.51028899e-01\n",
            "   1.74552892e+00 -2.31650226e+00  9.33627129e-01  2.19577918e+00\n",
            "  -1.60754812e+00  3.42674293e+00  4.44096602e+00 -6.70774871e+00\n",
            "  -5.90568901e+00  3.30591874e+00 -7.21291163e-01 -3.62583441e+00\n",
            "  -4.49295514e+00 -2.59148419e+00  2.29540266e+00 -2.29633533e-01\n",
            "   2.86201073e+00  4.45180100e+00]]\n"
          ]
        }
      ]
    },
    {
      "cell_type": "code",
      "source": [
        "# part 3 - experiment with different hyper parameters\n",
        "#  epochs - 5, 15, 30, 60 (batch size 10, learning 3.0)\n",
        "#  batch - 5, 10, 50, 100 (epochs 30, learning 3.0)\n",
        "#  learning rate - 1.0, 3.0, 5.0 (epochs 30, batch size 10)\n"
      ],
      "metadata": {
        "id": "hd3TYzZ9_d4j"
      },
      "execution_count": 13,
      "outputs": []
    },
    {
      "cell_type": "code",
      "source": [
        "net = network.Network([784, 30, 10])\n",
        "net.SGD(training_data, 5, 10, 3.0, test_data=test_data)"
      ],
      "metadata": {
        "colab": {
          "base_uri": "https://localhost:8080/"
        },
        "id": "ZHVpg8iXCR97",
        "outputId": "62215f57-8330-47ae-f0f4-28ed7395450a"
      },
      "execution_count": 12,
      "outputs": [
        {
          "output_type": "stream",
          "name": "stdout",
          "text": [
            "Epoch 0 : 9069 / 10000\n",
            "Epoch 1 : 9282 / 10000\n",
            "Epoch 2 : 9355 / 10000\n",
            "Epoch 3 : 9412 / 10000\n",
            "Epoch 4 : 9434 / 10000\n"
          ]
        }
      ]
    }
  ]
}