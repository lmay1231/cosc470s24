{
  "nbformat": 4,
  "nbformat_minor": 0,
  "metadata": {
    "colab": {
      "provenance": [],
      "gpuType": "T4",
      "authorship_tag": "ABX9TyMVbNXtZdpkRnKCnY63WkP8",
      "include_colab_link": true
    },
    "kernelspec": {
      "name": "python3",
      "display_name": "Python 3"
    },
    "language_info": {
      "name": "python"
    },
    "accelerator": "GPU"
  },
  "cells": [
    {
      "cell_type": "markdown",
      "metadata": {
        "id": "view-in-github",
        "colab_type": "text"
      },
      "source": [
        "<a href=\"https://colab.research.google.com/github/lmay1231/cosc470s24/blob/main/Solutions/EclipseGAN/FlickrImages.ipynb\" target=\"_parent\"><img src=\"https://colab.research.google.com/assets/colab-badge.svg\" alt=\"Open In Colab\"/></a>"
      ]
    },
    {
      "cell_type": "code",
      "execution_count": null,
      "metadata": {
        "id": "l68mSrcdLY8W"
      },
      "outputs": [],
      "source": [
        "import os\n",
        "import requests\n",
        "from flickrapi import FlickrAPI\n",
        "from PIL import Image\n",
        "from io import BytesIO\n",
        "from dotenv import load_dotenv\n",
        "\n",
        "load_dotenv()\n",
        "\n",
        "# API Access\n",
        "FLICKR_PUBLIC = os.environ.get('FLICKR_PUBLIC')\n",
        "FLICKR_SECRET = os.environ.get('FLICKR_SECRET')\n",
        "\n",
        "# Flickr Group Settings\n",
        "group_id = '2986814@N24'\n",
        "\n",
        "# Local Settings\n",
        "dataset_dir = 'solar_lunar_eclipse_gan/flickr-dataset'\n",
        "\n",
        "# Set up the Flickr API\n",
        "flickr = FlickrAPI(FLICKR_PUBLIC, FLICKR_SECRET, format='parsed-json')\n",
        "\n",
        "# Create a directory for your images\n",
        "if not os.path.exists(dataset_dir):\n",
        "    os.makedirs(dataset_dir)\n",
        "\n",
        "\n",
        "def download_and_resize_images():\n",
        "    photos = flickr.groups.pools.getPhotos(group_id=group_id, per_page=500)\n",
        "    for photo in photos['photos']['photo']:\n",
        "        url = f\"https://farm{photo['farm']}.staticflickr.com/{photo['server']}/{photo['id']}_{photo['secret']}_c.jpg\"\n",
        "        response = requests.get(url)\n",
        "        if response.status_code == 200:\n",
        "            # Load image into Pillow\n",
        "            image = Image.open(BytesIO(response.content))\n",
        "            # Resize the image\n",
        "            image = image.resize((32, 32))\n",
        "            # Save the resized image\n",
        "            image.save(f\"{dataset_dir}/{photo['id']}.jpg\", 'JPEG')\n",
        "        print(f\"Downloaded and resized {photo['id']}.jpg\")\n",
        "\n",
        "\n",
        "if __name__ == '__main__':\n",
        "    download_and_resize_images()"
      ]
    }
  ]
}